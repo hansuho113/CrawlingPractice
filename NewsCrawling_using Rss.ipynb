{
 "cells": [
  {
   "cell_type": "markdown",
   "metadata": {},
   "source": [
    "## Rss를 이용한 뉴스기사 크롤링\n",
    "\n",
    "#### 정확도순(제목이나 내용에 검색 키워드가 포함되는 것)이 아니라 최신순으로 정렬되어 있어 제목이나 내용에 '춘천' 키워드가 포함된 뉴스의 링크만 추출 \n",
    "- 언론사별 기사 본문내용을 담고 있는 Class가 상이한 관계로 제목과 요약내용만 사용\n",
    "\n",
    "> 향후 뉴스기사간 유사도를 구할 예정\n",
    "    - 유사도를 구하는 이유 : 유사한 기사 클러스터링?"
   ]
  },
  {
   "cell_type": "code",
   "execution_count": 59,
   "metadata": {},
   "outputs": [],
   "source": [
    "import feedparser\n",
    "from bs4 import BeautifulSoup as bs\n",
    "import urllib\n",
    "import urllib.request as req\n",
    "\n",
    "# 크롤링 접속 차단 시 header user 정보 입력\n",
    "header = {'User-Agent' : 'Mozilla/5.0 (Windows NT 10.0; Win64; x64) AppleWebKit/537.36 (KHTML, like Gecko) Chrome/83.0.4103.106 Safari/537.36'}"
   ]
  },
  {
   "cell_type": "code",
   "execution_count": 39,
   "metadata": {},
   "outputs": [
    {
     "data": {
      "text/plain": [
       "dict_keys(['title', 'title_detail', 'links', 'link', 'summary', 'summary_detail', 'published', 'published_parsed', 'authors', 'author', 'author_detail', 'tags', 'media_thumbnail', 'href'])"
      ]
     },
     "execution_count": 39,
     "metadata": {},
     "output_type": "execute_result"
    }
   ],
   "source": [
    "feed.keys()"
   ]
  },
  {
   "cell_type": "code",
   "execution_count": 57,
   "metadata": {},
   "outputs": [
    {
     "data": {
      "text/plain": [
       "'Thu, 25 Jun 2020 18:02:00 +0900'"
      ]
     },
     "execution_count": 57,
     "metadata": {},
     "output_type": "execute_result"
    }
   ],
   "source": [
    "f['entries'][0].published"
   ]
  },
  {
   "cell_type": "code",
   "execution_count": 58,
   "metadata": {
    "scrolled": true
   },
   "outputs": [
    {
     "name": "stdout",
     "output_type": "stream",
     "text": [
      "feed\n",
      "entries\n",
      "bozo\n",
      "headers\n",
      "href\n",
      "status\n",
      "encoding\n",
      "bozo_exception\n",
      "version\n",
      "namespaces\n",
      "============\n"
     ]
    }
   ],
   "source": [
    "f = feedparser.parse('http://newssearch.naver.com/search.naver?where=rss&query=%EC%B6%98%EC%B2%9C&field=0&nx_search_query=&nx_and_query=&nx_sub_query=&nx_search_hlquery=&is_dts=0')\n",
    "\n",
    "for tag in f:\n",
    "    print(tag)\n",
    "print('============')\n",
    "\n",
    "link_list = []\n",
    "for feed in f['entries']:\n",
    "    if '춘천' in feed.title or feed.description:\n",
    "        link_list.append(feed.link)"
   ]
  },
  {
   "cell_type": "code",
   "execution_count": 56,
   "metadata": {
    "scrolled": true
   },
   "outputs": [
    {
     "data": {
      "text/plain": [
       "['http://news.mt.co.kr/mtview.php?no=2020062517575237308',\n",
       " 'http://www.edaily.co.kr/news/newspath.asp?newsid=03991766625805328',\n",
       " 'https://www.news1.kr/articles/?3976926',\n",
       " 'http://www.dtnews24.com/news/articleView.html?idxno=581423',\n",
       " 'http://www.kado.net/news/articleView.html?idxno=1028761',\n",
       " 'http://www.epnc.co.kr/news/articleView.html?idxno=98718',\n",
       " 'http://yna.kr/AKR20200625164500062?did=1195m',\n",
       " 'http://www.todayenergy.kr/news/articleView.html?idxno=226301',\n",
       " 'http://www.kyongbuk.co.kr/news/articleView.html?idxno=2044536',\n",
       " 'http://www.ccreview.co.kr/news/articleView.html?idxno=267720',\n",
       " 'https://www.news1.kr/articles/?3976902',\n",
       " 'http://www.tourtimes.net/220074',\n",
       " 'http://www.topstarnews.net/news/articleView.html?idxno=812497',\n",
       " 'http://news.kmib.co.kr/article/view.asp?arcid=0014732874&code=61121611&cp=nv',\n",
       " 'http://www.kado.net/news/articleView.html?idxno=1028720',\n",
       " 'http://www.newsis.com/view/?id=NISX20200625_0001073152&cID=10899&pID=10800',\n",
       " 'http://www.newsis.com/view/?id=NISX20200625_0001073296&cID=10201&pID=10200',\n",
       " 'https://www.sedaily.com/NewsView/1Z45Y3R6QN',\n",
       " 'https://www.sedaily.com/NewsView/1Z45XS9CRZ',\n",
       " 'https://www.news1.kr/articles/?3976849',\n",
       " 'http://www.whosaeng.com/118934',\n",
       " 'http://yna.kr/PYH20200625219300062?did=1196m',\n",
       " 'http://www.upkorea.net/news/articleView.html?idxno=754453',\n",
       " 'http://www.osen.co.kr/article/G1111382056',\n",
       " 'http://www.yonhapnewstv.co.kr/MYH20200625014200038/?did=1825m',\n",
       " 'http://www.newsworks.co.kr/news/articleView.html?idxno=467019',\n",
       " 'http://moneys.mt.co.kr/news/mwView.php?no=2020062516458072463',\n",
       " 'http://www.shinailbo.co.kr/news/articleView.html?idxno=1292767',\n",
       " 'https://www.seoul.co.kr/news/newsView.php?id=20200625500200&wlog_tag3=naver',\n",
       " 'http://yna.kr/AKR20200625145900062?did=1195m',\n",
       " 'http://yna.kr/AKR20200625101051062?did=1195m',\n",
       " 'http://www.kado.net/news/articleView.html?idxno=1028708',\n",
       " 'https://www.iloveorganic.co.kr/news/articleView.html?idxno=309533',\n",
       " 'https://www.ytn.co.kr/_ln/0115_202006251629273494',\n",
       " 'https://magazine.hankyung.com/money/article/2020062500182036792',\n",
       " 'https://view.asiae.co.kr/article/2020062516205880269',\n",
       " 'https://www.nocutnews.co.kr/news/5367544',\n",
       " 'https://www.news1.kr/articles/?3976758',\n",
       " 'http://www.seoulwire.com/news/articleView.html?idxno=417659',\n",
       " 'http://ilyo.co.kr/?ac=article_view&entry_id=373199',\n",
       " 'http://www.energydaily.co.kr/news/articleView.html?idxno=109444',\n",
       " 'http://www.kukinews.com/news/article.html?no=803118',\n",
       " 'http://www.newspim.com/news/view/20200625000859',\n",
       " 'http://www.lecturernews.com/news/articleView.html?idxno=42655',\n",
       " 'https://www.news1.kr/articles/?3976708',\n",
       " 'http://yna.kr/AKR20200625133900062?did=1195m',\n",
       " 'http://www.topstarnews.net/news/articleView.html?idxno=808916',\n",
       " 'http://www.catholicnews.co.kr/news/articleView.html?idxno=22776',\n",
       " 'http://www.topstarnews.net/news/articleView.html?idxno=809308',\n",
       " 'http://www.dtoday.co.kr/news/articleView.html?idxno=369241']"
      ]
     },
     "execution_count": 56,
     "metadata": {},
     "output_type": "execute_result"
    }
   ],
   "source": [
    "link_list"
   ]
  },
  {
   "cell_type": "code",
   "execution_count": 66,
   "metadata": {},
   "outputs": [
    {
     "data": {
      "text/plain": [
       "<div id=\"textBody\" itemprop=\"articleBody\" style=\"font-size:px;\">\n",
       "<table class=\"article_photo center\"><tr><td class=\"img\"><img alt=\"김상균 철도시설공단 김상균 이사장(좌측부터 시계방향으로 세번째)이 25일 서울 강남구 대한건설협회에서 대한건설협회 회원사와 상생의 건설문화 정착을 위한 간담회를 하고 있다./사진=철도공단 제공\" src=\"//thumb.mt.co.kr/06/2020/06/2020062517575237308_1.jpg/dims/optimize/\"/></td></tr><tr><td class=\"desc\">김상균 철도시설공단 김상균 이사장(좌측부터 시계방향으로 세번째)이 25일 서울 강남구 대한건설협회에서 대한건설협회 회원사와 상생의 건설문화 정착을 위한 간담회를 하고 있다./사진=철도공단 제공</td></tr></table>\n",
       "<!-- 기사본문 우측 박스 -->\n",
       "<div class=\"util_box\"><span class=\"ad\"><span class=\"adH\"><iframe frameborder=\"0\" id=\"59ce66b4-d91e-4ebc-9fc4-65e9a8a51e2b\" marginheight=\"0\" marginwidth=\"0\" paddingheight=\"0\" paddingwidth=\"0\" scrolling=\"no\" src=\"//compass.adop.cc/RD/59ce66b4-d91e-4ebc-9fc4-65e9a8a51e2b?type=iframe&amp;loc=&amp;size_width=200&amp;size_height=200\" style=\"width: 200px; height: 200px;\"></iframe></span></span></div>한국철도시설공단은 서울 강남구 건설회관에서 대한건설협회와 상생의 건설문화 정착을 위한 간담회를 개최했다고 25일 밝혔다.<br/>\n",
       "<br/>\n",
       "이날 간담회에는 김상균 철도공단 이사장과 김상수 대한건설협회 회장 등 관계자 20여명이 참석한 가운데 △예타면제 철도사업 조기 추진 △종합심사낙찰제 심사 요건 완화 △부실시공 예방 중심의 벌점제도 운영 등 건설업계의 현안에 대해 논의했다.<br/>\n",
       "<br/>\n",
       "또 코로나19 확산에 따른 국가경제 어려움을 극복하기 위해 발주처와 건설업계가 나아가야 할 방향과 역할에 대해서도 의견을 나눴다.<br/>\n",
       "<br/>\n",
       "김상수 회장은 \"코로나19로 어려움을 겪고 있는 국내 건설업체를 위해 춘천~속초 복선전철 건설사업 등 대형 철도 투자확대와 공기 연장에 따른 간접비 반영 등 건설업계의 경영환경을 고려해 계약제도도 개선되길 바란다\"고 말했다.<br/>\n",
       "<br/>\n",
       "김상균 이사장은 \"이번 간담회를 통해 건설업계의 애로사항을 적극 반영해 제도개선 방안을 마련하겠다\"며 \"코로나로 어려운 국내경기 활성화와 일자리 창출을 위해 건설업계와 함께 상생의 건설문화가 정착될 수 있도록 최선을 다하겠다\"고 했다.<br/>\n",
       "<br/>\n",
       "철도공단은 협력사들의 애로사항 해소 및 불공정관행 개선을 위해 지난 2018년 4월 공정경제활성화 추진단을 운영해 모두 280건의 과제를 개선했다.                            </div>"
      ]
     },
     "execution_count": 66,
     "metadata": {},
     "output_type": "execute_result"
    }
   ],
   "source": [
    "each_url = requests.get(link_list[0], headers=headers)\n",
    "each_html = bs(each_url.text, 'html.parser')\n",
    "each_html.select_one('#textBody')\n"
   ]
  },
  {
   "cell_type": "code",
   "execution_count": 65,
   "metadata": {},
   "outputs": [
    {
     "ename": "AttributeError",
     "evalue": "'NoneType' object has no attribute 'contents'",
     "output_type": "error",
     "traceback": [
      "\u001b[1;31m---------------------------------------------------------------------------\u001b[0m",
      "\u001b[1;31mAttributeError\u001b[0m                            Traceback (most recent call last)",
      "\u001b[1;32m<ipython-input-65-9da5f35b9f58>\u001b[0m in \u001b[0;36m<module>\u001b[1;34m\u001b[0m\n\u001b[0;32m      6\u001b[0m \u001b[1;33m\u001b[0m\u001b[0m\n\u001b[0;32m      7\u001b[0m     \u001b[0moutput\u001b[0m \u001b[1;33m=\u001b[0m \u001b[1;34m''\u001b[0m\u001b[1;33m\u001b[0m\u001b[1;33m\u001b[0m\u001b[0m\n\u001b[1;32m----> 8\u001b[1;33m     \u001b[1;32mfor\u001b[0m \u001b[0mitem\u001b[0m \u001b[1;32min\u001b[0m \u001b[0mcontent\u001b[0m\u001b[1;33m.\u001b[0m\u001b[0mcontents\u001b[0m\u001b[1;33m:\u001b[0m\u001b[1;33m\u001b[0m\u001b[1;33m\u001b[0m\u001b[0m\n\u001b[0m\u001b[0;32m      9\u001b[0m         \u001b[0mstripped\u001b[0m \u001b[1;33m=\u001b[0m \u001b[0mstr\u001b[0m\u001b[1;33m(\u001b[0m\u001b[0mitem\u001b[0m\u001b[1;33m)\u001b[0m\u001b[1;33m.\u001b[0m\u001b[0mstrip\u001b[0m\u001b[1;33m(\u001b[0m\u001b[1;33m)\u001b[0m\u001b[1;33m\u001b[0m\u001b[1;33m\u001b[0m\u001b[0m\n\u001b[0;32m     10\u001b[0m         \u001b[1;32mif\u001b[0m \u001b[0mstripped\u001b[0m \u001b[1;33m==\u001b[0m \u001b[1;34m''\u001b[0m\u001b[1;33m:\u001b[0m\u001b[1;33m\u001b[0m\u001b[1;33m\u001b[0m\u001b[0m\n",
      "\u001b[1;31mAttributeError\u001b[0m: 'NoneType' object has no attribute 'contents'"
     ]
    }
   ],
   "source": [
    "article_body = []\n",
    "for i in range(len(link_list)):\n",
    "    each_url = requests.get(link_list[i], headers=headers)\n",
    "    each_html = bs(each_url.text, 'html.parser')\n",
    "    content = each_html.select_one('#textBody')\n",
    "    \n",
    "    output = ''\n",
    "    for item in content.contents:\n",
    "        stripped = str(item).strip()\n",
    "        if stripped == '':\n",
    "            continue\n",
    "        if stripped[0] not in ['<','/']:\n",
    "            output += str(stripped)\n",
    "    article_body.append(output)\n",
    "ariticle_body"
   ]
  },
  {
   "cell_type": "markdown",
   "metadata": {},
   "source": [
    "## 언론사별 내용을 담아놓은 class가 다른 관계로 전체 기사를 비교하지 못했음\n",
    "> ## 제목, Subscription 기준으로 먼저 수행 "
   ]
  },
  {
   "cell_type": "code",
   "execution_count": null,
   "metadata": {},
   "outputs": [],
   "source": [
    "\n",
    "for feed in f['entries']:\n",
    "    if '춘천' in feed.title or feed.description:\n",
    "        link_list.append(feed.link)"
   ]
  },
  {
   "cell_type": "code",
   "execution_count": 85,
   "metadata": {},
   "outputs": [],
   "source": [
    "title_list = []\n",
    "summ_list = []\n",
    "concat_list = []"
   ]
  },
  {
   "cell_type": "code",
   "execution_count": 86,
   "metadata": {
    "scrolled": true
   },
   "outputs": [],
   "source": [
    "for feed in f['entries']:\n",
    "    title_list.append(feed.title)\n",
    "    summ_list.append(feed.summary)\n",
    "    concat_list.append(feed.title + feed.summary)"
   ]
  },
  {
   "cell_type": "code",
   "execution_count": 88,
   "metadata": {},
   "outputs": [
    {
     "data": {
      "text/plain": [
       "['김상균 철도공단 이사장 \"건설업계 애로 반영해 제도개선안 마련\"',\n",
       " '26일 중부 낮까지 비…전라내륙·경상도 30도 넘는 무더위',\n",
       " '철도공단-대한건설협회, 상생 건설문화 정착 간담회']"
      ]
     },
     "execution_count": 88,
     "metadata": {},
     "output_type": "execute_result"
    }
   ],
   "source": [
    "title_list[:3]"
   ]
  },
  {
   "cell_type": "code",
   "execution_count": 89,
   "metadata": {
    "scrolled": true
   },
   "outputs": [
    {
     "data": {
      "text/plain": [
       "['김상수 회장은 \"코로나19로 어려움을 겪고 있는 국내 건설업체를 위해 춘천~속초 복선전철 건설사업 등 대형 철도 투자확대와 공기 연장에 따른 간접비 반영 등 건설업계의 경영환경을 고려해 계약제도도 개선되길 바란다\"고...',\n",
       " '지역별 아침 최저기온은 △서울 20도 △인천 20도 △춘천 21도 △강릉 20도 △대전 21도 △대구 21도 △부산 21도 △전주 21도 △광주 20도 △제주 22도, 낮 최고기온은 △서울 26도 △인천 24도 △춘천 28도 △강릉 31도 △대전 28도...',\n",
       " '대한건설협회 김상수 회장은 “코로나19로 어려움을 겪고 있는 국내 건설업체를 위해 춘천~속초 복선전철 건설사업 등 대형 철도 투자 확대와 공기연장에 따른 간접비 반영 등 건설업계의 경영환경을 고려하여 계약제도도...']"
      ]
     },
     "execution_count": 89,
     "metadata": {},
     "output_type": "execute_result"
    }
   ],
   "source": [
    "summ_list[:3]"
   ]
  },
  {
   "cell_type": "code",
   "execution_count": 90,
   "metadata": {},
   "outputs": [
    {
     "data": {
      "text/plain": [
       "['김상균 철도공단 이사장 \"건설업계 애로 반영해 제도개선안 마련\"김상수 회장은 \"코로나19로 어려움을 겪고 있는 국내 건설업체를 위해 춘천~속초 복선전철 건설사업 등 대형 철도 투자확대와 공기 연장에 따른 간접비 반영 등 건설업계의 경영환경을 고려해 계약제도도 개선되길 바란다\"고...',\n",
       " '26일 중부 낮까지 비…전라내륙·경상도 30도 넘는 무더위지역별 아침 최저기온은 △서울 20도 △인천 20도 △춘천 21도 △강릉 20도 △대전 21도 △대구 21도 △부산 21도 △전주 21도 △광주 20도 △제주 22도, 낮 최고기온은 △서울 26도 △인천 24도 △춘천 28도 △강릉 31도 △대전 28도...',\n",
       " '철도공단-대한건설협회, 상생 건설문화 정착 간담회대한건설협회 김상수 회장은 “코로나19로 어려움을 겪고 있는 국내 건설업체를 위해 춘천~속초 복선전철 건설사업 등 대형 철도 투자 확대와 공기연장에 따른 간접비 반영 등 건설업계의 경영환경을 고려하여 계약제도도...']"
      ]
     },
     "execution_count": 90,
     "metadata": {},
     "output_type": "execute_result"
    }
   ],
   "source": [
    "concat_list[:3]"
   ]
  },
  {
   "cell_type": "code",
   "execution_count": null,
   "metadata": {},
   "outputs": [],
   "source": []
  }
 ],
 "metadata": {
  "kernelspec": {
   "display_name": "Python 3",
   "language": "python",
   "name": "python3"
  },
  "language_info": {
   "codemirror_mode": {
    "name": "ipython",
    "version": 3
   },
   "file_extension": ".py",
   "mimetype": "text/x-python",
   "name": "python",
   "nbconvert_exporter": "python",
   "pygments_lexer": "ipython3",
   "version": "3.7.6"
  }
 },
 "nbformat": 4,
 "nbformat_minor": 4
}
