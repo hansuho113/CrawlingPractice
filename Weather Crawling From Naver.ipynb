{
 "cells": [
  {
   "cell_type": "code",
   "execution_count": 499,
   "metadata": {},
   "outputs": [],
   "source": [
    "import numpy as np\n",
    "import pandas as pd\n",
    "import requests\n",
    "from bs4 import BeautifulSoup"
   ]
  },
  {
   "cell_type": "code",
   "execution_count": 500,
   "metadata": {},
   "outputs": [
    {
     "data": {
      "text/plain": [
       "'26'"
      ]
     },
     "execution_count": 500,
     "metadata": {},
     "output_type": "execute_result"
    }
   ],
   "source": [
    "url = \"https://search.naver.com/search.naver?sm=top_hty&fbm=0&ie=utf8&query=춘천+날씨\"\n",
    "r = requests.get(url)\n",
    "html = BeautifulSoup(r.text, 'html.parser')\n",
    "\n",
    "temp_info = html.select('p.info_temperature')\n",
    "\n",
    "# 현재 기온\n",
    "temp_info[0].select_one('span.todaytemp').text"
   ]
  },
  {
   "cell_type": "markdown",
   "metadata": {},
   "source": [
    "# 3일 기온"
   ]
  },
  {
   "cell_type": "code",
   "execution_count": 501,
   "metadata": {},
   "outputs": [],
   "source": [
    "# 업데이트 정보창\n",
    "time_info = html.select('p.guide')\n",
    "\n",
    "# 크롤링 시 업데이트 시간(hour) 정보\n",
    "update_time = time_info[0].select_one('span.update').text\n",
    "update_time_int = int(time_info[0].select_one('span.update').text[:2])\n",
    "\n",
    "Temperature = []\n",
    "\n",
    "# 기상정보 업데이트 시간 오전 / 오후 구분\n",
    "if (update_time_int < 12)==True :\n",
    "    for i in range(len(temp_info)):\n",
    "        Temperature.append(temp_info[i].select_one('span.todaytemp').text)\n",
    "else:\n",
    "    for i in range(len(temp_info)):\n",
    "        Temperature.append(temp_info[i].select_one('span.todaytemp').text)\n",
    "        \n",
    "#df_temp = pd.DataFrame(Temperature, columns=['기온'])\n",
    "# 오전에 검색했을 때 당일 오후 기온 어떻게 표시되는지 확인 필요\n",
    "# DataFrame 변환 시 컬럼 개수 통일 위해서\n",
    "# (오늘- 오후), 내일, 모레 - 오전/오후   columns 5개\n",
    "# (오늘, 내일, 모레 - 오전/오후)    columns 6개"
   ]
  },
  {
   "cell_type": "code",
   "execution_count": 502,
   "metadata": {},
   "outputs": [
    {
     "data": {
      "text/plain": [
       "['26', '20', '29', '18', '31']"
      ]
     },
     "execution_count": 502,
     "metadata": {},
     "output_type": "execute_result"
    }
   ],
   "source": [
    "Temperature"
   ]
  },
  {
   "cell_type": "code",
   "execution_count": 503,
   "metadata": {},
   "outputs": [
    {
     "data": {
      "text/html": [
       "<div>\n",
       "<style scoped>\n",
       "    .dataframe tbody tr th:only-of-type {\n",
       "        vertical-align: middle;\n",
       "    }\n",
       "\n",
       "    .dataframe tbody tr th {\n",
       "        vertical-align: top;\n",
       "    }\n",
       "\n",
       "    .dataframe thead th {\n",
       "        text-align: right;\n",
       "    }\n",
       "</style>\n",
       "<table border=\"1\" class=\"dataframe\">\n",
       "  <thead>\n",
       "    <tr style=\"text-align: right;\">\n",
       "      <th></th>\n",
       "      <th>기온</th>\n",
       "      <th>기준시각</th>\n",
       "    </tr>\n",
       "  </thead>\n",
       "  <tbody>\n",
       "    <tr>\n",
       "      <th>0</th>\n",
       "      <td>26</td>\n",
       "      <td>17:30</td>\n",
       "    </tr>\n",
       "    <tr>\n",
       "      <th>1</th>\n",
       "      <td>20</td>\n",
       "      <td>17:30</td>\n",
       "    </tr>\n",
       "    <tr>\n",
       "      <th>2</th>\n",
       "      <td>29</td>\n",
       "      <td>17:30</td>\n",
       "    </tr>\n",
       "    <tr>\n",
       "      <th>3</th>\n",
       "      <td>18</td>\n",
       "      <td>17:30</td>\n",
       "    </tr>\n",
       "    <tr>\n",
       "      <th>4</th>\n",
       "      <td>31</td>\n",
       "      <td>17:30</td>\n",
       "    </tr>\n",
       "  </tbody>\n",
       "</table>\n",
       "</div>"
      ],
      "text/plain": [
       "   기온   기준시각\n",
       "0  26  17:30\n",
       "1  20  17:30\n",
       "2  29  17:30\n",
       "3  18  17:30\n",
       "4  31  17:30"
      ]
     },
     "execution_count": 503,
     "metadata": {},
     "output_type": "execute_result"
    }
   ],
   "source": [
    "df_temp = pd.DataFrame(Temperature, columns=['기온'])                                                  \n",
    "df_temp['기준시각'] = update_time\n",
    "df_temp"
   ]
  },
  {
   "cell_type": "markdown",
   "metadata": {},
   "source": [
    "### span 갯수가 기온 3개, 나머지 강수, 바람, 습도는 2개씩 순환함"
   ]
  },
  {
   "cell_type": "code",
   "execution_count": 504,
   "metadata": {},
   "outputs": [
    {
     "data": {
      "text/plain": [
       "[<span>26</span>,\n",
       " <span class=\"blind\">도</span>,\n",
       " <span class=\"dot_point today _dot\"></span>,\n",
       " <span>26</span>,\n",
       " <span class=\"blind\">도</span>,\n",
       " <span class=\"dot_point today _dot\"></span>,\n",
       " <span>25</span>]"
      ]
     },
     "execution_count": 504,
     "metadata": {},
     "output_type": "execute_result"
    }
   ],
   "source": [
    "WeatherByTime[0].select('li > dl > dd.weather_item._dotWrapper > span')[:7]"
   ]
  },
  {
   "cell_type": "code",
   "execution_count": 505,
   "metadata": {
    "scrolled": true
   },
   "outputs": [
    {
     "data": {
      "text/plain": [
       "[<span>61</span>,\n",
       " <span class=\"dot_point today _dot\"></span>,\n",
       " <span>55</span>,\n",
       " <span class=\"dot_point today _dot\"></span>,\n",
       " <span>65</span>,\n",
       " <span class=\"dot_point today _dot\"></span>,\n",
       " <span>65</span>]"
      ]
     },
     "execution_count": 505,
     "metadata": {},
     "output_type": "execute_result"
    }
   ],
   "source": [
    "WeatherByTime[3].select('li > dl > dd.weather_item._dotWrapper > span')[:7]"
   ]
  },
  {
   "cell_type": "markdown",
   "metadata": {},
   "source": [
    "## 5시간 뒤까지의 시간별 기온, 강수, 바람, 습도 정보를 담은 2차원 리스트 생성"
   ]
  },
  {
   "cell_type": "code",
   "execution_count": 506,
   "metadata": {},
   "outputs": [
    {
     "data": {
      "text/plain": [
       "[['17시', '18시', '19시', '20시', '21시'],\n",
       " ['26', '26', '25', '25', '24'],\n",
       " ['30', '30', '30', '30', '60'],\n",
       " ['1', '2', '2', '1', '0'],\n",
       " ['61', '55', '65', '65', '70']]"
      ]
     },
     "execution_count": 506,
     "metadata": {},
     "output_type": "execute_result"
    }
   ],
   "source": [
    "# 시간대별 날씨 카테고리에 기온, 강수, 바람, 습도에 순차적으로 접근하기 위해서\n",
    "# 상위 카테고리로 접근\n",
    "WeatherByTime = html.select('ul.list_area')\n",
    "\n",
    "# 향후 4시간 동안의 기온, 강수, 바람, 습도 리스트 생성\n",
    "weather_condition = [[],[],[],[]]\n",
    "\n",
    "# weather_condition[i] (순서대로 기온, 강수, 바람, 습도 리스트)에 넣기 위해서 i 지정 후 for 문 실행\n",
    "for i in range(len(weather_condition)):\n",
    "    \n",
    "    # 밑에 문장의 결과처럼 기온 span이 3개씩, 그 외에는 span이 2개씩 순환\n",
    "    # i==0(기온)일 때는 3개씩 순환, 나머지는 2개씩 순환하므로 range 지정\n",
    "    if i==0:\n",
    "        for j in range(0,15,3):\n",
    "            weather_condition[i].append((WeatherByTime[i].select\n",
    "                                      ('li > dl > dd.weather_item._dotWrapper > span')[j].text))\n",
    "    else:\n",
    "        for j in range(0,10,2):\n",
    "            weather_condition[i].append((WeatherByTime[i].select\n",
    "                                      ('li > dl > dd.weather_item._dotWrapper > span')[j].text))\n",
    "\n",
    "# 현재 기준시각으로부터 5시간 뒤의 시간 리스트 생성 후 WeatherByTime의 첫 번째 리스트로 삽입\n",
    "time_5 = []\n",
    "for i in range(5):\n",
    "    time_5.append(WeatherByTime[0].select('li > dl > dd.item_time > span')[i].text.strip())                               \n",
    "weather_condition.insert(0,time_5)\n",
    "\n",
    "\n",
    "weather_condition"
   ]
  },
  {
   "cell_type": "code",
   "execution_count": 507,
   "metadata": {},
   "outputs": [
    {
     "data": {
      "text/html": [
       "<div>\n",
       "<style scoped>\n",
       "    .dataframe tbody tr th:only-of-type {\n",
       "        vertical-align: middle;\n",
       "    }\n",
       "\n",
       "    .dataframe tbody tr th {\n",
       "        vertical-align: top;\n",
       "    }\n",
       "\n",
       "    .dataframe thead th {\n",
       "        text-align: right;\n",
       "    }\n",
       "</style>\n",
       "<table border=\"1\" class=\"dataframe\">\n",
       "  <thead>\n",
       "    <tr style=\"text-align: right;\">\n",
       "      <th></th>\n",
       "      <th>Temp</th>\n",
       "      <th>Precip(%)</th>\n",
       "      <th>WindSpd(m/s)</th>\n",
       "      <th>Humidity(%)</th>\n",
       "    </tr>\n",
       "  </thead>\n",
       "  <tbody>\n",
       "    <tr>\n",
       "      <th>17시</th>\n",
       "      <td>26</td>\n",
       "      <td>30</td>\n",
       "      <td>1</td>\n",
       "      <td>61</td>\n",
       "    </tr>\n",
       "    <tr>\n",
       "      <th>18시</th>\n",
       "      <td>26</td>\n",
       "      <td>30</td>\n",
       "      <td>2</td>\n",
       "      <td>55</td>\n",
       "    </tr>\n",
       "    <tr>\n",
       "      <th>19시</th>\n",
       "      <td>25</td>\n",
       "      <td>30</td>\n",
       "      <td>2</td>\n",
       "      <td>65</td>\n",
       "    </tr>\n",
       "    <tr>\n",
       "      <th>20시</th>\n",
       "      <td>25</td>\n",
       "      <td>30</td>\n",
       "      <td>1</td>\n",
       "      <td>65</td>\n",
       "    </tr>\n",
       "    <tr>\n",
       "      <th>21시</th>\n",
       "      <td>24</td>\n",
       "      <td>60</td>\n",
       "      <td>0</td>\n",
       "      <td>70</td>\n",
       "    </tr>\n",
       "  </tbody>\n",
       "</table>\n",
       "</div>"
      ],
      "text/plain": [
       "    Temp Precip(%) WindSpd(m/s) Humidity(%)\n",
       "17시   26        30            1          61\n",
       "18시   26        30            2          55\n",
       "19시   25        30            2          65\n",
       "20시   25        30            1          65\n",
       "21시   24        60            0          70"
      ]
     },
     "execution_count": 507,
     "metadata": {},
     "output_type": "execute_result"
    }
   ],
   "source": [
    "col_name_1 = ['Temp', 'Precip(%)','WindSpd(m/s)','Humidity(%)']\n",
    "weather_5h = pd.DataFrame({col_name[0]:weather_condition[1],\n",
    "                  col_name[1]:weather_condition[2],\n",
    "                  col_name[2]:weather_condition[3],\n",
    "                  col_name[3]:weather_condition[4]},\n",
    "                  index=weather_condition[0])\n",
    "weather_5h\n"
   ]
  },
  {
   "cell_type": "markdown",
   "metadata": {},
   "source": [
    "# FineDust / Fine Particulate matter / Ozone"
   ]
  },
  {
   "cell_type": "code",
   "execution_count": 508,
   "metadata": {},
   "outputs": [
    {
     "data": {
      "text/plain": [
       "[<span class=\"num\">42㎍/㎥</span>,\n",
       " <span class=\"num\">30㎍/㎥</span>,\n",
       " <span class=\"num\">0.072ppm</span>]"
      ]
     },
     "execution_count": 508,
     "metadata": {},
     "output_type": "execute_result"
    }
   ],
   "source": [
    "etc_info = html.select('dl > dd.lv2 > span.num')\n",
    "etc_info"
   ]
  },
  {
   "cell_type": "code",
   "execution_count": 514,
   "metadata": {},
   "outputs": [
    {
     "data": {
      "text/plain": [
       "['42㎍/㎥', '30㎍/㎥', '0.072ppm']"
      ]
     },
     "execution_count": 514,
     "metadata": {},
     "output_type": "execute_result"
    }
   ],
   "source": [
    "etc_list = []\n",
    "for i in range(3):\n",
    "    etc_list.append(etc_info[i].text)\n",
    "etc_list"
   ]
  },
  {
   "cell_type": "code",
   "execution_count": 515,
   "metadata": {},
   "outputs": [
    {
     "data": {
      "text/plain": [
       "'42㎍/㎥'"
      ]
     },
     "execution_count": 515,
     "metadata": {},
     "output_type": "execute_result"
    }
   ],
   "source": [
    "etc_list[0]"
   ]
  },
  {
   "cell_type": "code",
   "execution_count": null,
   "metadata": {},
   "outputs": [],
   "source": []
  }
 ],
 "metadata": {
  "kernelspec": {
   "display_name": "Python 3",
   "language": "python",
   "name": "python3"
  },
  "language_info": {
   "codemirror_mode": {
    "name": "ipython",
    "version": 3
   },
   "file_extension": ".py",
   "mimetype": "text/x-python",
   "name": "python",
   "nbconvert_exporter": "python",
   "pygments_lexer": "ipython3",
   "version": "3.7.6"
  }
 },
 "nbformat": 4,
 "nbformat_minor": 4
}
