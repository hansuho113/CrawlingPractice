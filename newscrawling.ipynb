{
 "cells": [
  {
   "cell_type": "code",
   "execution_count": 1,
   "metadata": {
    "_cell_guid": "b1076dfc-b9ad-4769-8c92-a6c4dae69d19",
    "_uuid": "8f2839f25d086af736a60e9eeb907d3b93b6e0e5"
   },
   "outputs": [],
   "source": [
    "# This Python 3 environment comes with many helpful analytics libraries installed\n",
    "# It is defined by the kaggle/python docker image: https://github.com/kaggle/docker-python\n",
    "# For example, here's several helpful packages to load in \n",
    "\n",
    "import numpy as np # linear algebra\n",
    "import pandas as pd # data processing, CSV file I/O (e.g. pd.read_csv)\n",
    "\n",
    "# Input data files are available in the \"../input/\" directory.\n",
    "# For example, running this (by clicking run or pressing Shift+Enter) will list all files under the input directory\n",
    "\n",
    "import os\n",
    "for dirname, _, filenames in os.walk('/kaggle/input'):\n",
    "    for filename in filenames:\n",
    "        print(os.path.join(dirname, filename))\n",
    "\n",
    "# Any results you write to the current directory are saved as output."
   ]
  },
  {
   "cell_type": "code",
   "execution_count": 2,
   "metadata": {
    "_cell_guid": "79c7e3d0-c299-4dcb-8224-4455121ee9b0",
    "_uuid": "d629ff2d2480ee46fbb7e2d37f6b5fab8052498a"
   },
   "outputs": [],
   "source": [
    "import requests\n",
    "from bs4 import BeautifulSoup"
   ]
  },
  {
   "cell_type": "markdown",
   "metadata": {},
   "source": [
    "### 페이지별 제목 크롤링"
   ]
  },
  {
   "cell_type": "code",
   "execution_count": 3,
   "metadata": {},
   "outputs": [
    {
     "name": "stdout",
     "output_type": "stream",
     "text": [
      "    연합뉴스            미 정부, 인공호흡기·마스크 등 코로나19용 장비 수출 금지\n",
      "    뉴시스                경남도, 18개 대학 외국인 유학생들에게 마스크 1만장\n",
      "    뉴스1                KT 원내비 \"투표소·마스크 재고도 내비로 확인하세요\"\n",
      "   내외뉴스통신                           aT, 마스크 1만장 나눔 동참\n",
      "아시아경제언론사 선정        북한에 줄 마스크 하루 100만장씩?…정부 \"황당한 가짜뉴스\"\n",
      "    조선비즈                  투표소 위치·마스크 재고, KT 원내비가 알려준다\n",
      "헤럴드경제언론사 선정             [단독]정부, 재외국민에게도 공적 마스크 판매 나선다\n",
      "    동아일보         셀트리온, 자체 디자인한 방호복 소재 필터형 마스크 50만장 지원\n",
      "    노컷뉴스                    불법 '마스크 소독·살균제' 판매 금지, 회수\n",
      "    뉴스렙                   마스크 소독제 등 불법 살균·소독제 행정처분 착수\n",
      "    뉴시스                    KT 원내비, 투표소 위치·마스크 재고 알려준다\n",
      " 연합뉴스언론사 선정        [팩트체크] 마스크 안 쓰면 '4·15 총선' 투표 못 한다?\n",
      "    연합뉴스                aT, 중국서 기부받은 마스크 1만장 소외계층에 전달\n",
      "아시아경제언론사 선정        북한에 줄 마스크 하루 100만장씩?…정부 \"황당한 가짜뉴스\"\n",
      "    조선비즈                  투표소 위치·마스크 재고, KT 원내비가 알려준다\n",
      " 뉴시스언론사 선정               오늘부터 해외 며느리·사위·형제에 마스크 발송 허용\n",
      "    충남일보                      보령시, 전 시민 1인당 마스크 3매 배부\n",
      "    뉴스렙                   마스크 소독제 등 불법 살균·소독제 행정처분 착수\n",
      " 동아일보언론사 선정       가족 위한 ‘마스크 해외발송’ 확대…며느리·사위·형제·자매 포함\n",
      " 연합뉴스언론사 선정       \"中 마스크공장 위생 엉망…먼지 날리는데 장갑도 안 껴\"(종합)\n",
      " SBS언론사 선정              인사만 해도 '침방울 수천 개'…면 마스크 써도 샌다\n",
      "    경향신문             개학첫날 마스크 벗고 얼굴 보여주는 담임선생님 [경향포토]\n",
      "    뉴스핌             약사회 \"공적마스크 대량 포장, 위생 문제 우려…취급않겠다\"\n",
      "    뉴스1                           중국 불교계, 조계종에 마스크 전달\n",
      "    중앙일보                  홈택스 쌓인 세금포인트, 마스크 할인쿠폰으로 쓴다\n",
      "    연합뉴스                           태극마크 새겨진 마스크 쓴 의료진\n",
      "    뉴시스                                 마스크 벗는 정세균 총리\n",
      "    뉴시스                                     마스크 쓴 사제들\n",
      "    노컷뉴스          외국인 유학생 6%만 공적 마스크 구매…경남도 1만장 긴급 지원\n",
      "    연합뉴스              코이카, 과테말라 경찰청에 코로나19 마스크 1만개 기부\n",
      "    뉴시스               \"얼굴 확인해야 하니 마스크 벗어줄래?\"…1초 뒤 \"네\"\n",
      "    연합뉴스                                마스크와 함께 찾아온 봄\n",
      "    연합뉴스                  인천 연수구-사회적 기업, 공공마스크 직접 만든다\n",
      "    연합뉴스            약사회, 공적마스크 개별포장 생산 촉구…\"묶음포장 안 받아\"\n",
      "    IT조선                   車 대신 인공호흡기·마스크 만드는 글로벌 완성차\n",
      "    연합뉴스              충북 적십자사, 도내 10개 시·군에 마스크 5만매 전달\n",
      "    미래한국      KT, '원내비(ONE NAVI)' 투표소 위치·마스크 재고 알려드려요\n",
      "  일간리더스경제                       일회용 종이마스크 '매너페이퍼' 나왔다\n",
      "    연합뉴스                    중고나라 카페에서 마스크 판매 사기 6명 기소\n",
      "    한국경제                            이희진 \"마스크 사러 가는 길\"\n",
      "    조선비즈                김현미 “교통 분야 종사자에 마스크 250만장 공급”\n",
      "    이데일리                  브이티 코스메틱, 울릉군에 마스크·손 소독제 기부\n",
      " 연합뉴스언론사 선정           한달전 마스크 5부제 시행 때와는 천지 차이…심리적 안정\n",
      "    국방일보                              “마스크 없는 노약자 위해”\n",
      " 서울신문언론사 선정                      마스크·손소독제 상표 출원 작년 2배\n",
      " 뉴시스언론사 선정           '마스크 사기' 중국인, 적반하장 경찰 폭행…\"엄벌할 것\"\n",
      "   디트뉴스24                   계룡시, 모든 시민에 마스크·손소독제 무상배부\n",
      "코메디닷컴언론사 선정                      안경에 김 안 서리게 마스크 쓰는 법\n",
      "    문화일보                용산구, 어린이집 118곳에 덴털마스크·손소독제 전달\n",
      "    뉴시스               순창군, 저소득층 위한 마스크 3차 지급…9155개 배부\n",
      "    연합뉴스            \"오늘부터 해외사는 형제·자매·며느리·사위에 마스크 보낸다\"\n",
      "   파이낸셜뉴스          10일부터 이틀간 사전투표... “신분증·마스크 잊지 마세요“\n",
      "    동양일보                   예산군, 유·초·중·고 8475명에 마스크 전달\n",
      "    뉴스1                      중국 불교계, 조계종에 마스크 10만장 기증\n",
      "    중부매일                  한국가스안전공사, 이전지역 소외계층에 마스크 전달\n",
      " 연합뉴스언론사 선정          WHO \"마스크 대중화, 의료진이 사용할 물량 부족 야기\"\n",
      "    뉴시스               오늘 마스크 941만장 푼다…119출동대원 등에 우선공급\n",
      "SBS CNBC언론사 선정           “마스크도 피로감?”…수요 감소가 가져온 공급 ‘여유’\n",
      "    대전일보                          이응노미술관, 보육원에 마스크 기부\n",
      "    조선일보             돈 받고 '먹튀'… 美까지 파고든 중국상인 '가짜 마스크'\n",
      "    뉴시스                    완주군, 집배원 등 특수직 종사자에 마스크 지원\n",
      " 중앙일보언론사 선정        \"中 마스크 공장 먼지 풀풀, 직원들은 맨손이더라\" 폭로 파문\n",
      "    KBS                           인도 뭄바이 등 마스크 착용 의무화\n",
      "    뉴스1               '코로나 위기' 마스크 안쓰면 외출 금지하는 나라도 나와\n",
      "    이데일리             aT, 中서 기부한 마스크 1만장 수출업체·소외계층에 전달\n",
      " 한국일보언론사 선정           총리님, 저도 ‘힘내라 대한민국’ 마스크 살 수 있나요?\n",
      "    동아일보                마스크 쓴 카톡 라이언… ‘팔꿈치 인사’ 현대차 로고\n",
      "    경기일보                                   마스크 대란 진정세\n",
      "    OBS                  미군, '천 가리개 지침' 후 마스크 쓰고 야외훈련\n",
      "    뉴시스                    백석대, 중국 교류 기관들로부터 마스크 기증받아\n",
      "    서울신문               거리에 나뒹구는 마스크와 장갑, 당신도 그러지 않나요?\n",
      "    대전일보                   마스크 보낼 수 있는 해외 거주 가족 범위 확대\n",
      "    광주드림                    10일부터 이틀간 사전투표…신분증·마스크 필수\n",
      "    무등일보                      민심 폭발했던 '마스크 대란' 끝이 보인다\n",
      " 연합뉴스언론사 선정          국민에 권고해놓고 마스크 안쓰는 트럼프…TF 멤버도 안 써\n",
      "   헤럴드경제                          안산시민 ‘면 마스크’ 1개씩 지급\n",
      "    중앙일보            \"마스크 착용자 비웃었다\" 고백···체코부터 반성문 쓰고있다\n",
      "  BBS NEWS               대구교육청, 전체 학교에 마스크·손소독제 일괄 배부\n",
      "    연합뉴스                                   마스크 쓰는 김종인\n",
      "    뉴시스                               3D 프린터로 찍어낸 마스크\n",
      " TV조선언론사 선정           \"코로나19 바이러스, 마스크 표면에 일주일 이상 남아\"\n",
      "    KBS                     마스크 벗고 맨손으로…‘사회적 거리두기’ 무색\n",
      "    중앙일보           면·치과용 마스크 큰 효과 없다…기침 때 틈새로 비말 빠져나가\n",
      "    뉴스1             \"어려운 이웃과 어르신들께…\" 여수서 마스크·현금 익명 기부\n",
      "   내외뉴스통신               아크웨이브글로벌, '필터 교체형' 바이캅 마스크 출시\n",
      "    뉴시스                     합천군, 저소득층에 마스크 7만7400매 지원\n",
      "   위클리오늘              착한 마스크 나눔 캠페인으로 보건용 2900매 기부 받아\n",
      "   스포츠서울            현대약품X리더스코스메틱 콜라보…스페셜패키지 내 마스크팩 포함\n",
      "    연합뉴스                                  채드벨, 마스크 회견\n",
      "    MTN                   팝가수 할시, 코로나19 의료진 위해 마스크 기부\n",
      "    뉴스1                 중국 동화선사, 조계종에 코로나19 극복 마스크 기부\n",
      "    뉴시스                        거창군, 전 군민 1인 2장 마스크 지급\n",
      "    뉴시스               대구지검, 마스크 매점매석한 도매업자 등 3명 불구속기소\n",
      "   미주한국일보                        “모든 소매업소 직원 마스크 의무화”\n",
      "    YTN             이석훈, 코로나19 극복 위해 마스크 7000장 기부(공식)\n",
      "    연합뉴스          광주교육청 마스크 65만여장 등 방역물품 '드라이브 스루' 배부\n",
      "    MBC                  목 빼 기다린 마스크 홈쇼핑…직원 가족 미리 알았나\n",
      "    연합뉴스                정부 고시 어기고 마스크 10만장 판매 등…3명 기소\n",
      "    연합뉴스                                     마스크 쓴 호잉\n",
      "    연합뉴스                울산시·선관위 \"투표소에서 마스크·위생장갑 착용해야\"\n"
     ]
    }
   ],
   "source": [
    "for n in range(1,100, 10):\n",
    "    url = \"https://search.naver.com/search.naver?&where=news&query=%EB%A7%88%EC%8A%A4%ED%81%AC&sm=tab_pge&sort=0&photo=0&field=0&reporter_article=&pd=0&ds=&de=&docid=&nso=so:r,p:all,a:all&mynews=0&cluster_rank=57&start=\"+str(n)+\"&refresh_start=0\"\n",
    "    raw = requests.get(url)\n",
    "    html = BeautifulSoup(raw.text, 'html.parser')\n",
    "    titles = html.select('ul.type01 > li')\n",
    "    for head in titles:\n",
    "        title = head.select_one('a._sp_each_title').text\n",
    "        media = head.select_one('span._sp_each_source').text\n",
    "        \n",
    "        print(media.center(12), title.rjust(40))\n"
   ]
  },
  {
   "cell_type": "code",
   "execution_count": null,
   "metadata": {},
   "outputs": [],
   "source": []
  }
 ],
 "metadata": {
  "kernelspec": {
   "display_name": "Python 3",
   "language": "python",
   "name": "python3"
  },
  "language_info": {
   "codemirror_mode": {
    "name": "ipython",
    "version": 3
   },
   "file_extension": ".py",
   "mimetype": "text/x-python",
   "name": "python",
   "nbconvert_exporter": "python",
   "pygments_lexer": "ipython3",
   "version": "3.6.6"
  }
 },
 "nbformat": 4,
 "nbformat_minor": 4
}
